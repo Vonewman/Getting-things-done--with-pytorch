{
  "cells": [
    {
      "cell_type": "markdown",
      "metadata": {
        "id": "view-in-github",
        "colab_type": "text"
      },
      "source": [
        "<a href=\"https://colab.research.google.com/github/Vonewman/Getting-things-done--with-pytorch/blob/main/01_getting_started_with_pytorch.ipynb\" target=\"_parent\"><img src=\"https://colab.research.google.com/assets/colab-badge.svg\" alt=\"Open In Colab\"/></a>"
      ]
    },
    {
      "cell_type": "markdown",
      "metadata": {
        "id": "xhvgFdy-P4Tr"
      },
      "source": [
        "# Getting Started with PyTorch\n",
        "\n",
        "[PyTorch](https://pytorch.org/) is:\n",
        "\n",
        "> An open source machine learning framework that accelerates the path from research prototyping to production deployment.\n",
        "\n",
        "In my humble opinion, PyTorch is the [sweet](https://www.youtube.com/watch?v=-h4spfuMGDI) way to solve Machine Learning problems, in the real world! The vast community allows you to work state-of-the-art models and deploy them to production in no time (relatively speaking). Let's get started!"
      ]
    },
    {
      "cell_type": "markdown",
      "metadata": {
        "id": "lYbVMpl-YQWa"
      },
      "source": [
        "## PyTorch ❤ NumPy\n",
        "\n",
        "Do you know NumPy? If you do, learning PyTorch will be a breeze! If you don't, prepare to learn the skills that will guide you on your journey Machine Learning Mastery!\n",
        "\n",
        "Let's start with something simple:"
      ]
    },
    {
      "cell_type": "code",
      "execution_count": null,
      "metadata": {
        "id": "gBC3n2HIOclc"
      },
      "outputs": [],
      "source": [
        "import torch\n",
        "import numpy as np"
      ]
    },
    {
      "cell_type": "code",
      "execution_count": null,
      "metadata": {
        "colab": {
          "base_uri": "https://localhost:8080/"
        },
        "id": "TMjgl44OYSVu",
        "outputId": "a49cbcdf-188f-4632-9dbd-8bfb31eb7d90"
      },
      "outputs": [
        {
          "output_type": "execute_result",
          "data": {
            "text/plain": [
              "array([ 9, 11])"
            ]
          },
          "metadata": {},
          "execution_count": 2
        }
      ],
      "source": [
        "a = np.array([1, 2])\n",
        "b = np.array([8, 9])\n",
        "\n",
        "c = a + b\n",
        "c"
      ]
    },
    {
      "cell_type": "markdown",
      "metadata": {
        "id": "WO1aEhYhaCya"
      },
      "source": [
        "Adding the same arrays with PyTorch looks like this:"
      ]
    },
    {
      "cell_type": "code",
      "execution_count": null,
      "metadata": {
        "colab": {
          "base_uri": "https://localhost:8080/"
        },
        "id": "4Wo-v5QGZ482",
        "outputId": "a866924f-7dd4-48ac-8a63-4ca6d0548957"
      },
      "outputs": [
        {
          "output_type": "execute_result",
          "data": {
            "text/plain": [
              "tensor([ 9, 11])"
            ]
          },
          "metadata": {},
          "execution_count": 3
        }
      ],
      "source": [
        "a = torch.tensor([1, 2])\n",
        "b = torch.tensor([8, 9])\n",
        "\n",
        "c = a + b\n",
        "c"
      ]
    },
    {
      "cell_type": "markdown",
      "metadata": {
        "id": "XJMl8qJnctne"
      },
      "source": [
        "Fortunately, you can go from NumPy to PyTorch:"
      ]
    },
    {
      "cell_type": "code",
      "execution_count": null,
      "metadata": {
        "colab": {
          "base_uri": "https://localhost:8080/"
        },
        "id": "lNILBZhlaTEF",
        "outputId": "40e64004-5b25-48e2-b17b-530e5242ec87"
      },
      "outputs": [
        {
          "output_type": "execute_result",
          "data": {
            "text/plain": [
              "array([1, 2])"
            ]
          },
          "metadata": {},
          "execution_count": 4
        }
      ],
      "source": [
        "a = torch.tensor([1, 2])\n",
        "\n",
        "a.numpy()"
      ]
    },
    {
      "cell_type": "markdown",
      "metadata": {
        "id": "y54RGj-pknpL"
      },
      "source": [
        " and vice versa:"
      ]
    },
    {
      "cell_type": "code",
      "execution_count": null,
      "metadata": {
        "colab": {
          "base_uri": "https://localhost:8080/"
        },
        "id": "gThi92EVc0eE",
        "outputId": "0b328d64-83ac-422f-ebcd-3dd39be53aaa"
      },
      "outputs": [
        {
          "output_type": "execute_result",
          "data": {
            "text/plain": [
              "tensor([1, 2])"
            ]
          },
          "metadata": {},
          "execution_count": 5
        }
      ],
      "source": [
        "a = np.array([1, 2])\n",
        "torch.from_numpy(a)"
      ]
    },
    {
      "cell_type": "markdown",
      "source": [
        "The good news is that the conversions incur almost no cost on the performance of your app. The NumPy and PyTorch store data in memory in the same way. That is, PyTorch is reusing the work done by NumPy.\n",
        "\n",
        "## Tensors\n",
        "\n",
        "Tensors are just n-dimensional number (including booleans) containers. You can find the complete list of supported data types at [PyTorch's Tensor Docs](https://pytorch.org/docs/stable/tensors.html).\n",
        "\n",
        "So, how can you create a Tensor (try to ignore that I've already shown you how to do it)?\n"
      ],
      "metadata": {
        "id": "1CXwLM8UQ4VF"
      }
    },
    {
      "cell_type": "code",
      "execution_count": null,
      "metadata": {
        "colab": {
          "base_uri": "https://localhost:8080/"
        },
        "id": "PLv9B3MLk4ll",
        "outputId": "2023d0ff-b733-4921-83e6-3ddfb3166019"
      },
      "outputs": [
        {
          "output_type": "execute_result",
          "data": {
            "text/plain": [
              "tensor([[1, 2],\n",
              "        [2, 1]])"
            ]
          },
          "metadata": {},
          "execution_count": 6
        }
      ],
      "source": [
        "torch.tensor([[1, 2], [2, 1]])"
      ]
    },
    {
      "cell_type": "markdown",
      "source": [
        "You can create a tensor from floats:"
      ],
      "metadata": {
        "id": "nEFfzAVYRJaC"
      }
    },
    {
      "cell_type": "code",
      "source": [
        "torch.FloatTensor([[1, 2], [2, 1]])"
      ],
      "metadata": {
        "colab": {
          "base_uri": "https://localhost:8080/"
        },
        "id": "ys_8cWzkRF4u",
        "outputId": "aaee9869-194b-42a8-be64-a26c2018a459"
      },
      "execution_count": null,
      "outputs": [
        {
          "output_type": "execute_result",
          "data": {
            "text/plain": [
              "tensor([[1., 2.],\n",
              "        [2., 1.]])"
            ]
          },
          "metadata": {},
          "execution_count": 7
        }
      ]
    },
    {
      "cell_type": "code",
      "source": [
        "torch.tensor([[1, 2], [2, 1]], dtype=torch.bool)"
      ],
      "metadata": {
        "colab": {
          "base_uri": "https://localhost:8080/"
        },
        "id": "Y4oeRTdlRLui",
        "outputId": "ab84fd1e-1263-4fbc-a72a-46496a0180fc"
      },
      "execution_count": null,
      "outputs": [
        {
          "output_type": "execute_result",
          "data": {
            "text/plain": [
              "tensor([[True, True],\n",
              "        [True, True]])"
            ]
          },
          "metadata": {},
          "execution_count": 8
        }
      ]
    },
    {
      "cell_type": "markdown",
      "source": [
        "You can use a wide range of factory methods to create Tensors without manually specifying each number. For example, you can create a matrix with random numbers like this: "
      ],
      "metadata": {
        "id": "WAI_OhpPRnB6"
      }
    },
    {
      "cell_type": "code",
      "source": [
        "torch.rand(2, 3)"
      ],
      "metadata": {
        "colab": {
          "base_uri": "https://localhost:8080/"
        },
        "id": "BrVyTpk9RjN9",
        "outputId": "e5fd8f09-6032-49a5-ab3c-e6f93e325595"
      },
      "execution_count": null,
      "outputs": [
        {
          "output_type": "execute_result",
          "data": {
            "text/plain": [
              "tensor([[0.7462, 0.1820, 0.4121],\n",
              "        [0.9852, 0.7180, 0.7894]])"
            ]
          },
          "metadata": {},
          "execution_count": 9
        }
      ]
    },
    {
      "cell_type": "markdown",
      "source": [
        "Or one full of ones:"
      ],
      "metadata": {
        "id": "8M1NBkLCRtdo"
      }
    },
    {
      "cell_type": "code",
      "source": [
        "torch.ones(2, 3)"
      ],
      "metadata": {
        "colab": {
          "base_uri": "https://localhost:8080/"
        },
        "id": "ow4VntWeRprb",
        "outputId": "5a7a96bd-6a47-478d-b0ba-90135d054e70"
      },
      "execution_count": null,
      "outputs": [
        {
          "output_type": "execute_result",
          "data": {
            "text/plain": [
              "tensor([[1., 1., 1.],\n",
              "        [1., 1., 1.]])"
            ]
          },
          "metadata": {},
          "execution_count": 10
        }
      ]
    },
    {
      "cell_type": "markdown",
      "source": [
        "PyTorch has a variety of useful operations:"
      ],
      "metadata": {
        "id": "kvdwULWvRz5a"
      }
    },
    {
      "cell_type": "code",
      "source": [
        "x = torch.tensor([[2, 3], [1, 2]])\n",
        "print(x)\n",
        "print(f'sum: {x.sum()}')"
      ],
      "metadata": {
        "colab": {
          "base_uri": "https://localhost:8080/"
        },
        "id": "tA0T645ARvCU",
        "outputId": "93fa752c-8d22-4021-adb8-f2ce981b5130"
      },
      "execution_count": null,
      "outputs": [
        {
          "output_type": "stream",
          "name": "stdout",
          "text": [
            "tensor([[2, 3],\n",
            "        [1, 2]])\n",
            "sum: 8\n"
          ]
        }
      ]
    },
    {
      "cell_type": "markdown",
      "source": [
        "Get the transpose of a 2-D tensor:"
      ],
      "metadata": {
        "id": "UXlH3OqYAvsj"
      }
    },
    {
      "cell_type": "code",
      "source": [
        "x.t()"
      ],
      "metadata": {
        "id": "xAvdNM0FR7KN",
        "colab": {
          "base_uri": "https://localhost:8080/"
        },
        "outputId": "b01f2f57-7518-4ad6-d995-7d7440826202"
      },
      "execution_count": null,
      "outputs": [
        {
          "output_type": "execute_result",
          "data": {
            "text/plain": [
              "tensor([[2, 1],\n",
              "        [3, 2]])"
            ]
          },
          "metadata": {},
          "execution_count": 12
        }
      ]
    },
    {
      "cell_type": "markdown",
      "source": [
        "Get the shape of each dimension:"
      ],
      "metadata": {
        "id": "lhNsABCLFIrW"
      }
    },
    {
      "cell_type": "code",
      "source": [
        "x.size()"
      ],
      "metadata": {
        "colab": {
          "base_uri": "https://localhost:8080/"
        },
        "id": "j6YK-1RqCdZY",
        "outputId": "f51d4e5c-06aa-4c08-da3c-ba4e458b7e90"
      },
      "execution_count": null,
      "outputs": [
        {
          "output_type": "execute_result",
          "data": {
            "text/plain": [
              "torch.Size([2, 2])"
            ]
          },
          "metadata": {},
          "execution_count": 13
        }
      ]
    },
    {
      "cell_type": "markdown",
      "source": [
        "Generally, performing some operation creates a new Tensor:"
      ],
      "metadata": {
        "id": "0WnHd0h9G5B5"
      }
    },
    {
      "cell_type": "code",
      "source": [
        "y = torch.tensor([[2, 2], [5, 1]])\n",
        "z = x.add(y)\n",
        "print(z)"
      ],
      "metadata": {
        "colab": {
          "base_uri": "https://localhost:8080/"
        },
        "id": "2oAvj8xSFL5P",
        "outputId": "7c43fa02-6551-4b7d-997b-549186388e79"
      },
      "execution_count": null,
      "outputs": [
        {
          "output_type": "stream",
          "name": "stdout",
          "text": [
            "tensor([[4, 5],\n",
            "        [6, 3]])\n"
          ]
        }
      ]
    },
    {
      "cell_type": "markdown",
      "source": [
        "But you can do it in-place:"
      ],
      "metadata": {
        "id": "EAmaZcvVJEjE"
      }
    },
    {
      "cell_type": "code",
      "source": [
        "x.add_(y)\n",
        "x"
      ],
      "metadata": {
        "colab": {
          "base_uri": "https://localhost:8080/"
        },
        "id": "GdCz7r4CHEzH",
        "outputId": "ee1de8bc-547b-4bb5-c61b-e991c6354888"
      },
      "execution_count": null,
      "outputs": [
        {
          "output_type": "execute_result",
          "data": {
            "text/plain": [
              "tensor([[4, 5],\n",
              "        [6, 3]])"
            ]
          },
          "metadata": {},
          "execution_count": 15
        }
      ]
    },
    {
      "cell_type": "markdown",
      "source": [
        "## Running on GPU\n",
        "\n",
        "At this point, you might be like: \"Why do I need PyTorch at all? All of this is perfectly doable with NumPy?\". PyTorch has three major superpowers: \n",
        "- you can run your operations on the GPU(s) (or something else)\n",
        "- [Autograd: automatic differentiation](https://pytorch.org/tutorials/beginner/blitz/autograd_tutorial.html)\n",
        "- A set of tools to build Neural Networks. Including several additional packages for working [with text](https://github.com/pytorch/text) or [images](https://github.com/pytorch/vision).\n",
        "\n",
        "Doing your Deep Learning computations on the GPU speeds up your experiment by a lot! And PyTorch makes it ridiculously easy to do it. Let's start by checking if GPU is available:"
      ],
      "metadata": {
        "id": "xGrNANlbAwwD"
      }
    },
    {
      "cell_type": "code",
      "source": [
        "device = torch.device(\"cuda\") if torch.cuda.is_available() else torch.device(\"cpu\")\n",
        "device"
      ],
      "metadata": {
        "id": "FwvJe5E9JIw6",
        "colab": {
          "base_uri": "https://localhost:8080/"
        },
        "outputId": "79315984-28fa-4724-a0e4-e48edf77d7c4"
      },
      "execution_count": null,
      "outputs": [
        {
          "output_type": "execute_result",
          "data": {
            "text/plain": [
              "device(type='cuda')"
            ]
          },
          "metadata": {},
          "execution_count": 16
        }
      ]
    },
    {
      "cell_type": "markdown",
      "source": [
        "Good, we have a [CUDA](https://en.wikipedia.org/wiki/CUDA)-enabled GPU device on our hands. Let's store a Tensor on it:"
      ],
      "metadata": {
        "id": "TYyCzIYWBbnq"
      }
    },
    {
      "cell_type": "code",
      "source": [
        "x = torch.tensor([[2, 3], [1, 2]])\n",
        "x.to(device)"
      ],
      "metadata": {
        "colab": {
          "base_uri": "https://localhost:8080/"
        },
        "id": "hIUI5JlcBDe8",
        "outputId": "559746b3-df83-4af4-ef09-a2624bd22c1a"
      },
      "execution_count": null,
      "outputs": [
        {
          "output_type": "execute_result",
          "data": {
            "text/plain": [
              "tensor([[2, 3],\n",
              "        [1, 2]], device='cuda:0')"
            ]
          },
          "metadata": {},
          "execution_count": 17
        }
      ]
    },
    {
      "cell_type": "markdown",
      "source": [
        "Notice that our Tensor is now on device `cuda:0`. What can we do with it? Pretty much everything as before:"
      ],
      "metadata": {
        "id": "c0i-nsvNCzCO"
      }
    },
    {
      "cell_type": "code",
      "source": [
        "x = x.to(device)\n",
        "\n",
        "y = torch.tensor([[2, 2], [5, 1]])\n",
        "y = y.to(device)\n",
        "\n",
        "x.add(y)"
      ],
      "metadata": {
        "colab": {
          "base_uri": "https://localhost:8080/"
        },
        "id": "2mGHkOG9BoSt",
        "outputId": "0de4ca79-b52a-46ba-bdeb-385d68ee2b1f"
      },
      "execution_count": null,
      "outputs": [
        {
          "output_type": "execute_result",
          "data": {
            "text/plain": [
              "tensor([[4, 5],\n",
              "        [6, 3]], device='cuda:0')"
            ]
          },
          "metadata": {},
          "execution_count": 18
        }
      ]
    },
    {
      "cell_type": "markdown",
      "source": [
        "## Common Issues\n",
        "\n",
        "I got to be honest with you. You will fuck up, multiple times, before understanding how this whole thing works out. That's alright!\n",
        "\n",
        "However, there are a couple of things you can do that might minimize the frustrations along your journey:\n",
        "\n",
        "- Doing operations between GPU and CPU Tensors is **not allowed**\n",
        "- Size mismatch between Tensors occurs often and is (almost every time) easy to fix:\n",
        "\n"
      ],
      "metadata": {
        "id": "83akcNKhDie1"
      }
    },
    {
      "cell_type": "markdown",
      "source": [
        "PyTorch is very descriptive in this case. When doing more complex stuff, you would want to check the shape of your Tensors obsessively, after every operation. Just print the size!\n",
        "\n",
        "- Running out of GPU memory: You might be leaking memory or too large of a dataset/model. Faster/better GPU always helps. But remember, you can solve really large problems with a single powerful GPU these days. Think carefully if that is not enough for you - why that is?\n",
        "\n",
        "## Conclusion\n",
        "\n",
        "Welcome to the dark side! You might've been working with Keras, TensorFlow, or another Deep Learning framework, until recently. Almost every framework is great, but PyTorch has really solid roots. Easy to use and understand, allows for fast experimentation and standard debugging tools apply! Enjoy!"
      ],
      "metadata": {
        "id": "rAN9NkbUEdee"
      }
    },
    {
      "cell_type": "code",
      "source": [
        ""
      ],
      "metadata": {
        "id": "jBZQc14wDbo6"
      },
      "execution_count": null,
      "outputs": []
    }
  ],
  "metadata": {
    "colab": {
      "name": "01-getting-started-with-pytorch.ipynb",
      "provenance": [],
      "authorship_tag": "ABX9TyNm5F3P8VbTT5SP8TbCjYkx",
      "include_colab_link": true
    },
    "kernelspec": {
      "display_name": "Python 3",
      "name": "python3"
    },
    "language_info": {
      "name": "python"
    },
    "accelerator": "GPU"
  },
  "nbformat": 4,
  "nbformat_minor": 0
}